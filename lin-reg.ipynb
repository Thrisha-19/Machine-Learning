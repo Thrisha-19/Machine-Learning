# %%
import pandas as pd
import numpy as np
import matplotlib.pyplot as plt
from sklearn import linear_model

# %%
df = pd.read_csv("/workspaces/machine-learning/machine learning models/homeprices.csv")
df

# %%
%matplotlib inline
plt.scatter(df.area, df.price, color = 'red', marker = '*')
plt.plot(df.area, reg.predict(df[['area']]), color = 'blue')
plt.xlabel("Area")
plt.ylabel("Price")
plt.title("Area Vs Price")

# %%
reg = linear_model.LinearRegression()
reg.fit(df[['area']], df.price)

# %%
reg.predict([[3300]])

# %%
reg.coef_

# %%
reg.intercept_

# %%
#y = mx + c
135.78767123*3300+180616.43835616432
