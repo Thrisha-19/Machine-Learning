{
  "nbformat": 4,
  "nbformat_minor": 0,
  "metadata": {
    "colab": {
      "provenance": [],
      "authorship_tag": "ABX9TyPppLP7O+bkVL2axbo0y4uP",
      "include_colab_link": true
    },
    "kernelspec": {
      "name": "python3",
      "display_name": "Python 3"
    },
    "language_info": {
      "name": "python"
    }
  },
  "cells": [
    {
      "cell_type": "markdown",
      "metadata": {
        "id": "view-in-github",
        "colab_type": "text"
      },
      "source": [
        "<a href=\"https://colab.research.google.com/github/Thrisha-19/Machine-Learning/blob/main/rule_based_chatbot.ipynb\" target=\"_parent\"><img src=\"https://colab.research.google.com/assets/colab-badge.svg\" alt=\"Open In Colab\"/></a>"
      ]
    },
    {
      "cell_type": "code",
      "execution_count": 8,
      "metadata": {
        "id": "XznqI9A5A84p"
      },
      "outputs": [],
      "source": [
        "import re\n",
        "import random"
      ]
    },
    {
      "cell_type": "code",
      "source": [
        "class RuleBot:\n",
        "  ### Potential Negative Responses\n",
        "  negative_responses = (\"no\",\"nope\",\"nah\",\"naw\",\"not a chance\",\"sorry\")\n",
        "  ### Exit conversation keywords\n",
        "  exit_commands = (\"quit\",\"pause\",\"exit\",\"goodbye\",\"bye\",\"later\")\n",
        "  ### Random starter question\n",
        "  random_questions = (\n",
        "      \"why are you here? \",\n",
        "      \"Are there many humans like you? \",\n",
        "      \"What do you consume for sustenanace? \",\n",
        "      \"Is there intelligent life on this planet? \",\n",
        "      \"Does earth have a leader? \",\n",
        "      \"What planets have you visited? \",\n",
        "      \"What technology do you have on this planet? \"\n",
        "  )\n",
        "  def __init__(self):\n",
        "    self.alienbabble = {'describe_planet_intent': r'.*\\s*your planet.*',\n",
        "                        'answer_why_intent': r'why\\sare.*',\n",
        "                        'about_intel': r'.*\\s*intel'\n",
        "                        }\n",
        "  \n",
        "  def greet(self):\n",
        "    self.name = input(\"What is your name?\\n\")\n",
        "    will_help = input(\n",
        "        f\"Hi {self.name}, I am Rule-Bot. Will you help me learn about your planet?\\n\")\n",
        "    if will_help in self.negative_responses:\n",
        "      print(\"Ok , have a nice Earth day!\")\n",
        "      return\n",
        "    self.chat()\n",
        "\n",
        "  def make_exit(self,reply):\n",
        "    for command in self.exit_commands:\n",
        "      if reply == command:\n",
        "        print(\"Okay, have a nice Earth day!\")\n",
        "        return True\n",
        "\n",
        "  def chat(self):\n",
        "    reply = input(random.choices(self.random_questions)).lower()\n",
        "    while not self.make_exit(reply):\n",
        "      reply = input(self.match_reply(reply))\n",
        "\n",
        "  def match_reply(self,reply):\n",
        "     for key,value in self.alienbabble.items():\n",
        "       intent = key\n",
        "       regex_pattern = value\n",
        "       found_match = re.match(regex_pattern,reply)\n",
        "       if found_match and intent == 'describe_planet_intent':\n",
        "         return self.describe_planet_intent()\n",
        "       elif found_match and intent == 'answer_why_intent':\n",
        "          return self.answer_why_intent()\n",
        "       elif found_match and intent == 'about_intel':\n",
        "          return self.about_intel()\n",
        "     if not found_match:\n",
        "        return self.no_match_intent()\n",
        "\n",
        "  def describe_planet_intent(self):\n",
        "    responses = (\"My planet is utopia of diverse organisms and species.\\n\",\n",
        "                 \"I am from Octavius, the capital of the Wayward Galaxies.\\n\")\n",
        "    return random.choices(responses)\n",
        "  \n",
        "  def answer_why_intent(self):\n",
        "    responses = (\"I come in peace\\n\",\n",
        "                 \"I am here to collect data on your planet and its inhabitants\\n\",\n",
        "                 \"I heard coffee is good\\n\" )\n",
        "    return random.choices(responses)\n",
        "   \n",
        "  def about_intel(self):\n",
        "     responses = (\"Intel is the world's largest company\\n\",\n",
        "                  \"Intel is an industry leader, creating world-changing technology that enables global progress and enriches lives\\n\",\n",
        "                  \"Intel is an leading American brand and manufacturer of semiconductor computer circuits\\n\")\n",
        "     return random.choices(responses)\n",
        "\n",
        "  def no_match_intent(self):\n",
        "      responses = (\"Please tell me more\\n\",\n",
        "                   \"Tell me more\\n\",\n",
        "                   \"Why do you say that?\\n\",\n",
        "                   \"I see. Can you elaborate\",\n",
        "                   \"Interesting. Can you tell me more\\n\",\n",
        "                   \"I see. How do you think?\\n\",\n",
        "                   \"why?\\n\",\n",
        "                   \"How do you think I feel when you say that?\\n\")\n",
        "      return random.choices(responses)\n",
        "\n",
        "AlienBot = RuleBot()\n",
        "AlienBot.greet()"
      ],
      "metadata": {
        "colab": {
          "base_uri": "https://localhost:8080/"
        },
        "id": "GbwUdKwIBa1b",
        "outputId": "4ba05715-0e4e-4570-c174-c26c72e90e04"
      },
      "execution_count": 10,
      "outputs": [
        {
          "output_type": "stream",
          "name": "stdout",
          "text": [
            "What is your name?\n",
            "Pavitra\n",
            "Hi Pavitra, I am Rule-Bot. Will you help me learn about your planet?\n",
            "Sure\n",
            "['why are you here? ']I am here to collect data\n",
            "['Tell me more\\n']I heard coffee is good\n",
            "['Why do you say that?\\n']Tell me more about your planet\n",
            "['I am from Octavius, the capital of the Wayward Galaxies.\\n']good\n",
            "['Tell me more\\n']What planets have you visited\n",
            "['I see. How do you think?\\n']exit\n",
            "Okay, have a nice Earth day!\n"
          ]
        }
      ]
    },
    {
      "cell_type": "code",
      "source": [
        "\n"
      ],
      "metadata": {
        "id": "L_ByJ3ypC2Ye"
      },
      "execution_count": null,
      "outputs": []
    }
  ]
}