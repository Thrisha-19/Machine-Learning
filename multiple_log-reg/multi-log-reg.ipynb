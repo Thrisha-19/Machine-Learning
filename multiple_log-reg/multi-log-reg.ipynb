{
 "cells": [
  {
   "cell_type": "code",
   "execution_count": null,
   "metadata": {},
   "outputs": [],
   "source": []
  },
  {
   "cell_type": "code",
   "execution_count": null,
   "metadata": {},
   "outputs": [],
   "source": []
  }
 ],
 "metadata": {
  "kernelspec": {
   "display_name": "Python 3.9.12 ('pandas')",
   "language": "python",
   "name": "python3"
  },
  "language_info": {
   "name": "python",
   "version": "3.9.12"
  },
  "orig_nbformat": 4,
  "vscode": {
   "interpreter": {
    "hash": "7e44a9e4e128e90a6012cf424f2b5ecba08f3816248f5cd41a35030affc35ad1"
   }
  }
 },
 "nbformat": 4,
 "nbformat_minor": 2
}
